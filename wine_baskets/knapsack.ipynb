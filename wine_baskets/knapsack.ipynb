{
 "cells": [
  {
   "cell_type": "code",
   "execution_count": null,
   "metadata": {},
   "outputs": [],
   "source": [
    "import pyomo.environ as pyo\n",
    "\n",
    "model = pyo.ConcreteModel()\n",
    "\n",
    "# sets --------------------\n",
    "model.sWines = pyo.Set() # here come all wines\n",
    "model.sTypes = pyo.Set() # type of wine \"red\", \"white\", ...\n",
    "model.sRegion = pyo.Set() # wine region\n",
    "\n",
    "# variables ---------------\n",
    "model.vbWineInKnapsack = pyo.Var(model.sWines, domain=pyo.Binary)\n",
    "\n",
    "# parameters ---------------\n",
    "model.pWinePrice = pyo.Param(model.sWines, initialize = )\n",
    "model.pWineValue = pyo.Param(model.sWines, initialize = )"
   ]
  },
  {
   "cell_type": "markdown",
   "metadata": {},
   "source": [
    "Lo primero que hacemos es cargar la información que hemos obtenido de la web y acondicionarla para el modelo de optimización. \n",
    "Para ello, iremos incrementando un conjunto de listas para cada uno de los sets y parámetros.\n",
    "\n",
    "En el modo básico, únicamente almacenaremos:\n",
    "* Wines: el nombre de los distintos vinos a seleccionar. \n",
    "* Ratings: las valoraciones de los usuarios. \n",
    "* Prices: los precios de cada vino. \n",
    "\n",
    "Para las opciones avanzadas, además, almacenaremos:\n",
    "* Types: los tipos de vino (tinto, blanco...)"
   ]
  },
  {
   "cell_type": "code",
   "execution_count": 12,
   "metadata": {},
   "outputs": [
    {
     "name": "stderr",
     "output_type": "stream",
     "text": [
      "3289it [00:00, 29299.96it/s]\n"
     ]
    }
   ],
   "source": [
    "import jsonlines\n",
    "from tqdm import tqdm \n",
    "\n",
    "data_path = '../data/winedata_bodeboca_db.jsonl'\n",
    "Wines = []\n",
    "Regions = []\n",
    "Types = []\n",
    "Ratings = []\n",
    "Prices = []\n",
    "\n",
    "with jsonlines.open(data_path, 'r') as reader:\n",
    "    for obj in tqdm(reader):\n",
    "        try:\n",
    "            w = obj['wine_name']\n",
    "            r = obj['info']['do']\n",
    "            t = obj['info']['type']\n",
    "            p = obj['price']\n",
    "            rr = obj['ratings']\n",
    "            Wines.append(w)\n",
    "            Regions.append(r)\n",
    "            Types.append(t)\n",
    "            Prices.append(p)\n",
    "            Ratings.append(rr)\n",
    "        except:\n",
    "            pass\n"
   ]
  },
  {
   "cell_type": "code",
   "execution_count": 25,
   "metadata": {},
   "outputs": [
    {
     "data": {
      "text/plain": [
       "1.2256965678680365"
      ]
     },
     "execution_count": 25,
     "metadata": {},
     "output_type": "execute_result"
    }
   ],
   "source": [
    "1.0345**6"
   ]
  }
 ],
 "metadata": {
  "interpreter": {
   "hash": "e17f899afc822c0a5ad996381caa36a0fdab9a7b8b4bcf580272143ad4400015"
  },
  "kernelspec": {
   "display_name": "Python 3.7.6 ('base')",
   "language": "python",
   "name": "python3"
  },
  "language_info": {
   "codemirror_mode": {
    "name": "ipython",
    "version": 3
   },
   "file_extension": ".py",
   "mimetype": "text/x-python",
   "name": "python",
   "nbconvert_exporter": "python",
   "pygments_lexer": "ipython3",
   "version": "3.7.6"
  },
  "orig_nbformat": 4
 },
 "nbformat": 4,
 "nbformat_minor": 2
}
