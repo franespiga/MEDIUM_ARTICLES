{
 "cells": [
  {
   "cell_type": "markdown",
   "metadata": {},
   "source": [
    "## Overview\n",
    "The purpose of this notebook is to transform the images of book covers into their embeddings. We will use an off-shelf model from TensorFLow hub (EfficientNet b0 v2) to convert them to vectors of dimension 1280."
   ]
  },
  {
   "cell_type": "markdown",
   "metadata": {},
   "source": [
    "## Config"
   ]
  },
  {
   "cell_type": "code",
   "execution_count": 1,
   "metadata": {},
   "outputs": [],
   "source": [
    "import tensorflow as tf\n",
    "import numpy as np\n",
    "import tensorflow_hub as hub \n",
    "from tqdm import tqdm\n",
    "import os\n",
    "import re\n",
    "import cloudpickle"
   ]
  },
  {
   "cell_type": "code",
   "execution_count": 2,
   "metadata": {},
   "outputs": [],
   "source": [
    "model_handle = \"https://tfhub.dev/google/imagenet/efficientnet_v2_imagenet1k_b0/feature_vector/2\"\n",
    "data_path = # YOUR DATA PATH\n",
    "output_path = # YOUR OUTPUT PATH\n",
    "pixels = 224\n",
    "do_fine_tuning = False\n",
    "IMAGE_SIZE = (pixels, pixels)"
   ]
  },
  {
   "cell_type": "markdown",
   "metadata": {},
   "source": [
    "## Model loading"
   ]
  },
  {
   "cell_type": "code",
   "execution_count": 4,
   "metadata": {},
   "outputs": [
    {
     "name": "stdout",
     "output_type": "stream",
     "text": [
      "Building model with https://tfhub.dev/google/imagenet/efficientnet_v2_imagenet1k_b0/feature_vector/2\n",
      "Model: \"sequential\"\n",
      "_________________________________________________________________\n",
      "Layer (type)                 Output Shape              Param #   \n",
      "=================================================================\n",
      "keras_layer (KerasLayer)     (None, 1280)              5919312   \n",
      "=================================================================\n",
      "Total params: 5,919,312\n",
      "Trainable params: 0\n",
      "Non-trainable params: 5,919,312\n",
      "_________________________________________________________________\n"
     ]
    }
   ],
   "source": [
    "print(\"Building model with\", model_handle)\n",
    "model = tf.keras.Sequential([\n",
    "    # Explicitly define the input shape so the model can be properly\n",
    "    # loaded by the TFLiteConverter\n",
    "    tf.keras.layers.InputLayer(input_shape=IMAGE_SIZE + (3,)),\n",
    "    hub.KerasLayer(model_handle, trainable=do_fine_tuning)\n",
    "])\n",
    "model.build((None,)+IMAGE_SIZE+(3,))\n",
    "model.summary()"
   ]
  },
  {
   "cell_type": "markdown",
   "metadata": {},
   "source": [
    "## Embedding dictionary generation"
   ]
  },
  {
   "cell_type": "code",
   "execution_count": 5,
   "metadata": {},
   "outputs": [],
   "source": [
    "def build_dataset(data_dir):\n",
    "  return tf.keras.preprocessing.image_dataset_from_directory(\n",
    "      data_dir,\n",
    "      # Seed needs to provided when using validation_split and shuffle = True.\n",
    "      # A fixed seed is used so that the validation set is stable across runs.\n",
    "      seed=123,\n",
    "      image_size=IMAGE_SIZE,\n",
    "      batch_size=1)"
   ]
  },
  {
   "cell_type": "code",
   "execution_count": 6,
   "metadata": {},
   "outputs": [
    {
     "data": {
      "text/plain": [
       "1169"
      ]
     },
     "execution_count": 6,
     "metadata": {},
     "output_type": "execute_result"
    }
   ],
   "source": [
    "# Get the list of all files in directory tree at given path\n",
    "listOfFiles = list()\n",
    "for (dirpath, dirnames, filenames) in os.walk(data_path):\n",
    "    listOfFiles += [os.path.join(dirpath, file) for file in filenames]\n",
    "imgpaths = [i for i in listOfFiles if i.lower().endswith('.jpg')]\n",
    "len(imgpaths)"
   ]
  },
  {
   "cell_type": "code",
   "execution_count": 7,
   "metadata": {},
   "outputs": [
    {
     "name": "stderr",
     "output_type": "stream",
     "text": [
      "100%|██████████| 1169/1169 [00:51<00:00, 22.88it/s]\n"
     ]
    }
   ],
   "source": [
    "EMBEDDING_DICT = {}\n",
    "for imgpath in tqdm(imgpaths):\n",
    "    isbn = re.sub('.jpg','',os.path.basename(imgpath).lower())\n",
    "    if not isbn in EMBEDDING_DICT:\n",
    "        input_arr = tf.keras.preprocessing.image.load_img(\n",
    "        imgpath, grayscale=False, color_mode='rgb', target_size=IMAGE_SIZE,\n",
    "        interpolation='nearest'\n",
    "        )\n",
    "        input_arr = tf.keras.preprocessing.image.img_to_array(input_arr)\n",
    "        input_arr = np.array([input_arr])  # Convert single image to a batch.\n",
    "        features = model.predict(input_arr)\n",
    "        EMBEDDING_DICT[isbn] = features.reshape(-1).tolist()\n",
    "\n",
    "cloudpickle.dump(EMBEDDING_DICT, open(f'{output_path}/embedding_dictionary.pkl','wb'))"
   ]
  }
 ],
 "metadata": {
  "interpreter": {
   "hash": "c305089de8df206ac528e9112b5ecb32fed2bd3809ba10d8771c4dc69bf4c2e0"
  },
  "kernelspec": {
   "display_name": "Python 3.7.6 64-bit ('base': conda)",
   "name": "python3"
  },
  "language_info": {
   "codemirror_mode": {
    "name": "ipython",
    "version": 3
   },
   "file_extension": ".py",
   "mimetype": "text/x-python",
   "name": "python",
   "nbconvert_exporter": "python",
   "pygments_lexer": "ipython3",
   "version": "3.7.6"
  },
  "orig_nbformat": 4
 },
 "nbformat": 4,
 "nbformat_minor": 2
}
