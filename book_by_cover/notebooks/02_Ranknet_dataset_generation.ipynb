{
 "cells": [
  {
   "cell_type": "markdown",
   "id": "9ecc48d9-0d8e-4ca4-ab1d-3292335d341c",
   "metadata": {},
   "source": [
    "# Overview\n",
    "\n",
    "The purpose of this notebook is to generate a RankNet dataset to train a scoring model"
   ]
  },
  {
   "cell_type": "markdown",
   "id": "e7ad2d95",
   "metadata": {},
   "source": [
    "## Config"
   ]
  },
  {
   "cell_type": "code",
   "execution_count": null,
   "id": "4e17e3bd",
   "metadata": {},
   "outputs": [],
   "source": [
    "import pandas as pd\n",
    "import cloudpickle\n",
    "import pickle\n",
    "import re\n",
    "import jsonlines\n",
    "from tqdm import tqdm "
   ]
  },
  {
   "cell_type": "code",
   "execution_count": null,
   "id": "874ca634",
   "metadata": {},
   "outputs": [],
   "source": [
    "embeddings = cloudpickle.load(open('./embedding_dictionary.p','rb'))\n",
    "xl = pd.ExcelFile('./RANKING_SEMANAL.xlsx')"
   ]
  },
  {
   "cell_type": "markdown",
   "id": "0e6ed975-8dad-4a9f-90af-ecaf4495e86e",
   "metadata": {},
   "source": [
    "## JSONLINES file \n",
    "We will use a jsonlines file as an intermediate product, to store the embeddings of each pair as well as the ranking. \n",
    "For the RankNet neural network, the output labels are:\n",
    "* 0.0 if the first pair is ranked lower than the second. \n",
    "* 0.5 if they are equivalent\n",
    "* 1.0 if the first pair is ranked higher than the second. \n",
    "\n",
    "For our use case, we will discretize the ranking in the following way:\n",
    "* Class A: top 1 result of the week;\n",
    "* Class B: top 2-5; \n",
    "* Class C: top 6-15;\n",
    "* Class D: top 16-50;\n",
    "* Class E: bottom 50."
   ]
  },
  {
   "cell_type": "code",
   "execution_count": 50,
   "id": "4b384012-064c-4c41-9bcf-fc16c4cf2809",
   "metadata": {},
   "outputs": [
    {
     "name": "stderr",
     "output_type": "stream",
     "text": [
      "100%|██████████| 33/33 [01:58<00:00,  3.59s/it]\n"
     ]
    }
   ],
   "source": [
    "sheets = xl.sheet_names  # see all sheet names\n",
    "with jsonlines.open('./ranknet_covers.jsonl', mode='w') as writer:\n",
    "    for sheet in tqdm(sheets):\n",
    "        try:\n",
    "            data = xl.parse(sheet)\n",
    "            ISBNs = [re.sub('-','',i) for i in data.ISBN]\n",
    "            for idx, isbn_a in enumerate(ISBNs):\n",
    "                for jdx, isbn_b in enumerate(ISBNs):\n",
    "                    if idx<jdx: # Default, 1.0 if idx ranked higher than jdx, 0 otherwise\n",
    "                        label = 1.0\n",
    "                    else:\n",
    "                        label = 0.0\n",
    "\n",
    "                    # first result of LHS is always better\n",
    "                    if (idx==0):\n",
    "                        label = 1.0\n",
    "                    # first result of RHS makes always LHS worst\n",
    "                    elif(jdx==0):\n",
    "                        label = 0.0\n",
    "                    elif(1+idx<=5)&(1+jdx<=5)&(1+idx>=2)&(1+jdx>=2):\n",
    "                        label = 0.5\n",
    "                    elif(1+idx<=15)&(1+jdx<=15)&(1+idx>=6)&(1+jdx>=6):\n",
    "                        label = 0.5\n",
    "                    elif(1+idx<=50)&(1+jdx<=50)&(1+idx>=16)&(1+jdx>=16):\n",
    "                        label = 0.5\n",
    "                    elif(1+idx>15)&(1+jdx>15):\n",
    "                        label = 0.5\n",
    "\n",
    "                    _ = {'a': embeddings[isbn_a[:12]],\n",
    "                         'b': embeddings[isbn_b[:12]],\n",
    "                         'label': label}\n",
    "                    writer.write(_)\n",
    "        except:\n",
    "            pass\n",
    "\n"
   ]
  },
  {
   "cell_type": "markdown",
   "id": "cc7b9300",
   "metadata": {},
   "source": [
    "## TFRecords dataset"
   ]
  },
  {
   "cell_type": "code",
   "execution_count": 53,
   "id": "bb959d6c-1ec2-4477-8334-050cf534b371",
   "metadata": {},
   "outputs": [],
   "source": [
    "import tensorflow as tf\n",
    "\n",
    "def _bytes_feature(value):\n",
    "    \"\"\"Returns a bytes_list from a string / byte.\"\"\"\n",
    "    if isinstance(value, type(tf.constant(0))):\n",
    "        value = value.numpy() # BytesList won't unpack a string from an EagerTensor.\n",
    "    return tf.train.Feature(bytes_list=tf.train.BytesList(value=[value]))\n",
    "\n",
    "def serialize_example_ranknet(a, b, label):\n",
    "    \"\"\"\n",
    "    Creates a tf.Example message ready to be written to a file.\n",
    "    \"\"\"\n",
    "    # Create a dictionary mapping the feature name to the tf.Example-compatible\n",
    "    # data type.\n",
    "        \n",
    "    feature = {\n",
    "      'a': _bytes_feature(tf.io.serialize_tensor(tf.cast(a, tf.float32))),\n",
    "      'b': _bytes_feature(tf.io.serialize_tensor(tf.cast(b, tf.float32))),\n",
    "      'label':  _bytes_feature(tf.io.serialize_tensor(label))\n",
    "    }\n",
    "    # Create a Features message using tf.train.Example.\n",
    "    example_proto = tf.train.Example(features=tf.train.Features(feature=feature))\n",
    "    return example_proto.SerializeToString()\n"
   ]
  },
  {
   "cell_type": "code",
   "execution_count": 55,
   "id": "9449f508-20ac-4515-9ffc-3e0461e9ab57",
   "metadata": {},
   "outputs": [
    {
     "name": "stderr",
     "output_type": "stream",
     "text": [
      "51394it [02:07, 404.11it/s]\n"
     ]
    }
   ],
   "source": [
    "tfrecord_file ='cover_ranknet.tfrecords'\n",
    "with tf.device('CPU'):\n",
    "    with tf.io.TFRecordWriter(tfrecord_file) as writer:\n",
    "        with jsonlines.open('./ranknet_covers.jsonl', mode='r') as reader:\n",
    "            for obj in tqdm(reader):\n",
    "                writer.write(serialize_example_ranknet(obj['a'], obj['b'], obj['label']))\n",
    "                "
   ]
  }
 ],
 "metadata": {
  "kernelspec": {
   "display_name": "Python 3 (ipykernel)",
   "language": "python",
   "name": "python3"
  },
  "language_info": {
   "codemirror_mode": {
    "name": "ipython",
    "version": 3
   },
   "file_extension": ".py",
   "mimetype": "text/x-python",
   "name": "python",
   "nbconvert_exporter": "python",
   "pygments_lexer": "ipython3",
   "version": "3.9.7"
  }
 },
 "nbformat": 4,
 "nbformat_minor": 5
}
