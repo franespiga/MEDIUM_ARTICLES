{
 "cells": [
  {
   "cell_type": "markdown",
   "id": "1fb95379-b631-4995-823c-e21ab6690fbd",
   "metadata": {},
   "source": [
    "# Overview\n",
    "The purpose of this notebook is to evaluate a new set of book covers using the scoring model that was trained using the RankNet architecture. Then, on a week by week basis, we will compare the proposed ordering given by the model, with the actual one and compute the NDCG (Normalized Discounted Cumulative Gain)."
   ]
  },
  {
   "cell_type": "markdown",
   "id": "4607f214-f392-433f-a6b0-06d6dabe1b53",
   "metadata": {},
   "source": [
    "## Config"
   ]
  },
  {
   "cell_type": "code",
   "execution_count": 35,
   "id": "200a9efc-30de-4b1a-a8f8-25c27fd879e5",
   "metadata": {},
   "outputs": [],
   "source": [
    "import cloudpickle\n",
    "import pandas as pd\n",
    "import numpy as np\n",
    "import tensorflow as tf\n",
    "from tqdm import tqdm\n",
    "import re"
   ]
  },
  {
   "cell_type": "code",
   "execution_count": 4,
   "id": "9ccf2ce7-5238-483b-9874-26cd16226385",
   "metadata": {},
   "outputs": [],
   "source": [
    "holdout_embeddings = cloudpickle.load(open('./embedding_dictionary_holdout.pkl','rb'))"
   ]
  },
  {
   "cell_type": "code",
   "execution_count": 5,
   "id": "a49c4f50-c2d3-4e83-8b99-441c943704ba",
   "metadata": {},
   "outputs": [
    {
     "name": "stderr",
     "output_type": "stream",
     "text": [
      "2022-03-01 08:49:12.395912: E tensorflow/stream_executor/cuda/cuda_driver.cc:271] failed call to cuInit: CUDA_ERROR_NO_DEVICE: no CUDA-capable device is detected\n",
      "2022-03-01 08:49:12.395956: I tensorflow/stream_executor/cuda/cuda_diagnostics.cc:156] kernel driver does not appear to be running on this host (jupyter-espigfr): /proc/driver/nvidia/version does not exist\n",
      "2022-03-01 08:49:12.396251: I tensorflow/core/platform/cpu_feature_guard.cc:151] This TensorFlow binary is optimized with oneAPI Deep Neural Network Library (oneDNN) to use the following CPU instructions in performance-critical operations:  AVX2 FMA\n",
      "To enable them in other operations, rebuild TensorFlow with the appropriate compiler flags.\n"
     ]
    },
    {
     "name": "stdout",
     "output_type": "stream",
     "text": [
      "WARNING:tensorflow:No training configuration found in save file, so the model was *not* compiled. Compile it manually.\n"
     ]
    }
   ],
   "source": [
    "model = tf.keras.models.load_model('./cover_ranker')"
   ]
  },
  {
   "cell_type": "markdown",
   "id": "0c67193b-0213-47fb-b7ae-859bf4c3bff9",
   "metadata": {},
   "source": [
    "## Scoring"
   ]
  },
  {
   "cell_type": "code",
   "execution_count": 21,
   "id": "c598021a-27a6-4ec5-8c59-e55c171beb41",
   "metadata": {},
   "outputs": [],
   "source": [
    "scores = {}\n",
    "for k, v in holdout_embeddings.items():\n",
    "    scores[k] = model(tf.expand_dims(v, 0)).numpy().reshape(-1)[0]"
   ]
  },
  {
   "cell_type": "code",
   "execution_count": 29,
   "id": "b8ad796c-5ab8-4d0c-acde-aa1823e115dd",
   "metadata": {},
   "outputs": [
    {
     "data": {
      "text/html": [
       "<div>\n",
       "<style scoped>\n",
       "    .dataframe tbody tr th:only-of-type {\n",
       "        vertical-align: middle;\n",
       "    }\n",
       "\n",
       "    .dataframe tbody tr th {\n",
       "        vertical-align: top;\n",
       "    }\n",
       "\n",
       "    .dataframe thead th {\n",
       "        text-align: right;\n",
       "    }\n",
       "</style>\n",
       "<table border=\"1\" class=\"dataframe\">\n",
       "  <thead>\n",
       "    <tr style=\"text-align: right;\">\n",
       "      <th></th>\n",
       "      <th>ISBN</th>\n",
       "      <th>score</th>\n",
       "    </tr>\n",
       "  </thead>\n",
       "  <tbody>\n",
       "    <tr>\n",
       "      <th>0</th>\n",
       "      <td>978843062434</td>\n",
       "      <td>-0.349543</td>\n",
       "    </tr>\n",
       "    <tr>\n",
       "      <th>1</th>\n",
       "      <td>978842704794</td>\n",
       "      <td>-0.619631</td>\n",
       "    </tr>\n",
       "    <tr>\n",
       "      <th>2</th>\n",
       "      <td>978841342625</td>\n",
       "      <td>-0.581446</td>\n",
       "    </tr>\n",
       "    <tr>\n",
       "      <th>3</th>\n",
       "      <td>978841848350</td>\n",
       "      <td>-0.564247</td>\n",
       "    </tr>\n",
       "    <tr>\n",
       "      <th>4</th>\n",
       "      <td>978849998889</td>\n",
       "      <td>-0.571211</td>\n",
       "    </tr>\n",
       "    <tr>\n",
       "      <th>...</th>\n",
       "      <td>...</td>\n",
       "      <td>...</td>\n",
       "    </tr>\n",
       "    <tr>\n",
       "      <th>235</th>\n",
       "      <td>978840824391</td>\n",
       "      <td>-0.611650</td>\n",
       "    </tr>\n",
       "    <tr>\n",
       "      <th>236</th>\n",
       "      <td>978847141961</td>\n",
       "      <td>-0.589069</td>\n",
       "    </tr>\n",
       "    <tr>\n",
       "      <th>237</th>\n",
       "      <td>978846635935</td>\n",
       "      <td>-0.533427</td>\n",
       "    </tr>\n",
       "    <tr>\n",
       "      <th>238</th>\n",
       "      <td>978841213533</td>\n",
       "      <td>-0.587698</td>\n",
       "    </tr>\n",
       "    <tr>\n",
       "      <th>239</th>\n",
       "      <td>978844802799</td>\n",
       "      <td>-0.598669</td>\n",
       "    </tr>\n",
       "  </tbody>\n",
       "</table>\n",
       "<p>240 rows × 2 columns</p>\n",
       "</div>"
      ],
      "text/plain": [
       "             ISBN     score\n",
       "0    978843062434 -0.349543\n",
       "1    978842704794 -0.619631\n",
       "2    978841342625 -0.581446\n",
       "3    978841848350 -0.564247\n",
       "4    978849998889 -0.571211\n",
       "..            ...       ...\n",
       "235  978840824391 -0.611650\n",
       "236  978847141961 -0.589069\n",
       "237  978846635935 -0.533427\n",
       "238  978841213533 -0.587698\n",
       "239  978844802799 -0.598669\n",
       "\n",
       "[240 rows x 2 columns]"
      ]
     },
     "execution_count": 29,
     "metadata": {},
     "output_type": "execute_result"
    }
   ],
   "source": [
    "df_scores = pd.DataFrame({'ISBN':list(scores.keys()), 'score':list(scores.values())})\n",
    "df_scores"
   ]
  },
  {
   "cell_type": "code",
   "execution_count": 30,
   "id": "9ac3109a-3730-410b-89d5-2742166b58bb",
   "metadata": {},
   "outputs": [],
   "source": [
    "df_scores.to_csv('weekly_scores.csv', index = False)"
   ]
  },
  {
   "cell_type": "markdown",
   "id": "47bbd5a5-ca0c-4573-bf4f-92d63fe7cbcb",
   "metadata": {},
   "source": [
    "## Assessment\n",
    "To compare the ideal ordering with the model results, we will use the NDCG or normalized discounted cumulative gain. \n",
    "For every week of the holdout dataset, we will retrieve the ordering of the candidates and compare it to their proposed scores"
   ]
  },
  {
   "cell_type": "code",
   "execution_count": 68,
   "id": "ecd01894-e3ef-49b6-b600-4f3db9bc2b3c",
   "metadata": {},
   "outputs": [],
   "source": [
    "score = [5]\n",
    "score.extend([3 for i in range(4)])\n",
    "score.extend([2 for i in range(10)])\n",
    "score.extend([1 for i in range(35)])\n",
    "score.extend([0 for i in range(50)])"
   ]
  },
  {
   "cell_type": "code",
   "execution_count": 69,
   "id": "9a126ea0-e2b6-45c4-aeaa-75f5591bc37e",
   "metadata": {},
   "outputs": [],
   "source": [
    "def compute_idcg(scores):\n",
    "    return np.sum([s/np.log2(i+2) for i, s in enumerate(scores)])"
   ]
  },
  {
   "cell_type": "code",
   "execution_count": 82,
   "id": "d211ddc2-4ab0-44b6-b57b-cd6b1d5edd4b",
   "metadata": {},
   "outputs": [
    {
     "name": "stderr",
     "output_type": "stream",
     "text": [
      "100%|██████████| 12/12 [00:00<00:00, 108.87it/s]\n"
     ]
    }
   ],
   "source": [
    "xl = pd.ExcelFile('./holdout_weekly_ranks.xls')\n",
    "sheets = xl.sheet_names  # see all sheet names\n",
    "NDCG = []\n",
    "MRR = []\n",
    "for sheet in tqdm(sheets):\n",
    "    data = xl.parse(sheet).reset_index()\n",
    "    data['true_score'] = score\n",
    "    data['ISBN_key'] = [re.sub('-','',i)[:12] for i in data.ISBN]\n",
    "    proposed_scores = df_scores.merge(data.loc[:,['true_score', 'ISBN_key']], left_on = 'ISBN', right_on = 'ISBN_key').sort_values('score', ascending = False).reset_index(drop=True)\n",
    "    mrr = proposed_scores[proposed_scores.true_score == 5].index[0]+1\n",
    "    ndcg = compute_idcg(proposed_scores['true_score'])/compute_idcg(data['true_score'])\n",
    "    NDCG.append(ndcg)\n",
    "    MRR.append(mrr)"
   ]
  },
  {
   "cell_type": "code",
   "execution_count": 83,
   "id": "2373715d-ce82-4173-8f88-5cf6055d8fe4",
   "metadata": {},
   "outputs": [
    {
     "data": {
      "text/plain": [
       "<AxesSubplot:>"
      ]
     },
     "execution_count": 83,
     "metadata": {},
     "output_type": "execute_result"
    },
    {
     "data": {
      "image/png": "[encoded data removed]",
      "text/plain": [
       "<Figure size 432x288 with 1 Axes>"
      ]
     },
     "metadata": {
      "needs_background": "light"
     },
     "output_type": "display_data"
    }
   ],
   "source": [
    "NDCG = pd.Series(np.array(NDCG))\n",
    "NDCG.hist()"
   ]
  },
  {
   "cell_type": "code",
   "execution_count": 84,
   "id": "b0d7671f-18e7-48e8-a574-86b72f56d1dc",
   "metadata": {},
   "outputs": [
    {
     "data": {
      "text/plain": [
       "<AxesSubplot:>"
      ]
     },
     "execution_count": 84,
     "metadata": {},
     "output_type": "execute_result"
    },
    {
     "data": {
      "image/png": "[encoded data removed]",
      "text/plain": [
       "<Figure size 432x288 with 1 Axes>"
      ]
     },
     "metadata": {
      "needs_background": "light"
     },
     "output_type": "display_data"
    }
   ],
   "source": [
    "MRR = pd.Series(np.array(MRR))\n",
    "MRR.hist()"
   ]
  },
  {
   "cell_type": "code",
   "execution_count": 76,
   "id": "14c10ade-8d15-49ee-91af-96bbf81fdeaf",
   "metadata": {},
   "outputs": [
    {
     "data": {
      "text/plain": [
       "count    12.000000\n",
       "mean      0.662422\n",
       "std       0.032966\n",
       "min       0.605585\n",
       "25%       0.637379\n",
       "50%       0.657759\n",
       "75%       0.688574\n",
       "max       0.710270\n",
       "dtype: float64"
      ]
     },
     "execution_count": 76,
     "metadata": {},
     "output_type": "execute_result"
    }
   ],
   "source": [
    "NDCG.describe()"
   ]
  },
  {
   "cell_type": "markdown",
   "id": "83be3785-711c-4f04-b664-925b1f128979",
   "metadata": {},
   "source": [
    "On average, the ranker obtains a 65% performance compared to the perfect ordering. This is not optimal, but it is better than a random ordering, and also the range of NDCG is between 60 and 70%, which means that, although the proposed ranking is not perfect, it is robust.\n",
    "\n",
    "The MRR however, on the 40s-50s in most of the cases, is not a positive sign, and the scoring model is not good pinpointing the best selling book of the week based on its cover design. "
   ]
  }
 ],
 "metadata": {
  "kernelspec": {
   "display_name": "Python 3 (ipykernel)",
   "language": "python",
   "name": "python3"
  },
  "language_info": {
   "codemirror_mode": {
    "name": "ipython",
    "version": 3
   },
   "file_extension": ".py",
   "mimetype": "text/x-python",
   "name": "python",
   "nbconvert_exporter": "python",
   "pygments_lexer": "ipython3",
   "version": "3.9.7"
  }
 },
 "nbformat": 4,
 "nbformat_minor": 5
}
